{
 "cells": [
  {
   "cell_type": "code",
   "execution_count": 28,
   "metadata": {},
   "outputs": [],
   "source": [
    "import pandas as pd\n",
    "from math import log2\n",
    "import re"
   ]
  },
  {
   "cell_type": "markdown",
   "metadata": {},
   "source": [
    "## Начальные данные"
   ]
  },
  {
   "cell_type": "code",
   "execution_count": 47,
   "metadata": {},
   "outputs": [],
   "source": [
    "code = 'БАВАВАВВББВВБВВААВВБАВБААВВАВВАББВВВАБВВБВВАААВБВАВБААВВВАББАБВВВВВВБВААВВБААВАВАВВВВААБВВВААВВВББВА'\n",
    "code_plusone = 'БАВАВАВВББВВБВВААВВБАВБААВВАВВАББВВВАБВВБВВАААВБВАВБААВВВАББАБВВВВВВБВААВВБААВАВАВВВВААБВВВААВВВББВАБ'\n",
    "combinations = ['АА', 'АБ', 'АВ', 'БА', 'ББ', 'БВ', 'ВА', 'ВБ', 'ВВ']"
   ]
  },
  {
   "cell_type": "markdown",
   "metadata": {},
   "source": [
    "## Количество символов"
   ]
  },
  {
   "cell_type": "code",
   "execution_count": 101,
   "metadata": {},
   "outputs": [
    {
     "name": "stdout",
     "output_type": "stream",
     "text": [
      "La - кол-во символов = 100\n"
     ]
    }
   ],
   "source": [
    "print('La - кол-во символов =', len(code))\n",
    "la = len(code)"
   ]
  },
  {
   "cell_type": "markdown",
   "metadata": {},
   "source": [
    "## Параметры алфавита"
   ]
  },
  {
   "cell_type": "code",
   "execution_count": 11,
   "metadata": {},
   "outputs": [
    {
     "name": "stdout",
     "output_type": "stream",
     "text": [
      "Алфавит = ['Б', 'А', 'В']\n",
      "ma - объем алфавита = 3\n"
     ]
    }
   ],
   "source": [
    "alphabet = list(set(list(code)))\n",
    "print('Алфавит =', alphabet)\n",
    "print('ma - объем алфавита =', len(alphabet))"
   ]
  },
  {
   "cell_type": "markdown",
   "metadata": {},
   "source": [
    "## Вероятности p(ai)"
   ]
  },
  {
   "cell_type": "code",
   "execution_count": 147,
   "metadata": {},
   "outputs": [
    {
     "name": "stdout",
     "output_type": "stream",
     "text": [
      "J сообщения = 148.6\n",
      "J сообщения для сравнения = 1.486\n"
     ]
    },
    {
     "data": {
      "text/html": [
       "<div>\n",
       "<style scoped>\n",
       "    .dataframe tbody tr th:only-of-type {\n",
       "        vertical-align: middle;\n",
       "    }\n",
       "\n",
       "    .dataframe tbody tr th {\n",
       "        vertical-align: top;\n",
       "    }\n",
       "\n",
       "    .dataframe thead th {\n",
       "        text-align: right;\n",
       "    }\n",
       "</style>\n",
       "<table border=\"1\" class=\"dataframe\">\n",
       "  <thead>\n",
       "    <tr style=\"text-align: right;\">\n",
       "      <th></th>\n",
       "      <th>Символ (ai)</th>\n",
       "      <th>Кол-во символов (nai)</th>\n",
       "      <th>Вероятность (p(ai))</th>\n",
       "      <th>Кол-во инфы на символ (J(ai))</th>\n",
       "    </tr>\n",
       "  </thead>\n",
       "  <tbody>\n",
       "    <tr>\n",
       "      <th>0</th>\n",
       "      <td>Б</td>\n",
       "      <td>20.0</td>\n",
       "      <td>0.2</td>\n",
       "      <td>2.32</td>\n",
       "    </tr>\n",
       "    <tr>\n",
       "      <th>1</th>\n",
       "      <td>А</td>\n",
       "      <td>30.0</td>\n",
       "      <td>0.3</td>\n",
       "      <td>1.74</td>\n",
       "    </tr>\n",
       "    <tr>\n",
       "      <th>2</th>\n",
       "      <td>В</td>\n",
       "      <td>50.0</td>\n",
       "      <td>0.5</td>\n",
       "      <td>1.00</td>\n",
       "    </tr>\n",
       "    <tr>\n",
       "      <th>Сумма</th>\n",
       "      <td>БАВ</td>\n",
       "      <td>100.0</td>\n",
       "      <td>1.0</td>\n",
       "      <td>5.06</td>\n",
       "    </tr>\n",
       "  </tbody>\n",
       "</table>\n",
       "</div>"
      ],
      "text/plain": [
       "      Символ (ai)  Кол-во символов (nai)  Вероятность (p(ai))  \\\n",
       "0               Б                   20.0                  0.2   \n",
       "1               А                   30.0                  0.3   \n",
       "2               В                   50.0                  0.5   \n",
       "Сумма         БАВ                  100.0                  1.0   \n",
       "\n",
       "       Кол-во инфы на символ (J(ai))  \n",
       "0                               2.32  \n",
       "1                               1.74  \n",
       "2                               1.00  \n",
       "Сумма                           5.06  "
      ]
     },
     "execution_count": 147,
     "metadata": {},
     "output_type": "execute_result"
    }
   ],
   "source": [
    "pa_df = pd.DataFrame({\n",
    "    'Символ (ai)': alphabet\n",
    "})\n",
    "for index, row in pa_df.iterrows():\n",
    "    letter = row['Символ (ai)']\n",
    "    pa_df.loc[index, 'Кол-во символов (nai)'] = code.count(letter)\n",
    "    pa_df.loc[index, 'Вероятность (p(ai))'] = (code.count(letter))/(len(code))\n",
    "    pa_df.loc[index, 'Кол-во инфы на символ (J(ai))'] = round(-log2((code.count(letter))/(len(code))), 2)\n",
    "\n",
    "jc = 0\n",
    "for nai, jai in zip(pa_df['Кол-во символов (nai)'].tolist(), pa_df['Кол-во инфы на символ (J(ai))'].tolist()):\n",
    "    jc += nai * jai\n",
    "print('J сообщения =', jc)\n",
    "print('J сообщения для сравнения =', jc/100)\n",
    "\n",
    "pa_df.loc['Сумма']= pa_df.sum()\n",
    "pa_df"
   ]
  },
  {
   "cell_type": "markdown",
   "metadata": {},
   "source": [
    "## Определение типа источника"
   ]
  },
  {
   "cell_type": "code",
   "execution_count": 91,
   "metadata": {},
   "outputs": [
    {
     "name": "stdout",
     "output_type": "stream",
     "text": [
      "Независимый источник\n"
     ]
    },
    {
     "data": {
      "text/html": [
       "<div>\n",
       "<style scoped>\n",
       "    .dataframe tbody tr th:only-of-type {\n",
       "        vertical-align: middle;\n",
       "    }\n",
       "\n",
       "    .dataframe tbody tr th {\n",
       "        vertical-align: top;\n",
       "    }\n",
       "\n",
       "    .dataframe thead th {\n",
       "        text-align: right;\n",
       "    }\n",
       "</style>\n",
       "<table border=\"1\" class=\"dataframe\">\n",
       "  <thead>\n",
       "    <tr style=\"text-align: right;\">\n",
       "      <th></th>\n",
       "      <th>aiaj</th>\n",
       "      <th>n(aiaj)</th>\n",
       "      <th>p(aiaj)</th>\n",
       "      <th>p(ai) * p(aj)</th>\n",
       "      <th>p(aj|ai)</th>\n",
       "    </tr>\n",
       "  </thead>\n",
       "  <tbody>\n",
       "    <tr>\n",
       "      <th>0</th>\n",
       "      <td>АА</td>\n",
       "      <td>9.0</td>\n",
       "      <td>0.09</td>\n",
       "      <td>0.09</td>\n",
       "      <td>0.3</td>\n",
       "    </tr>\n",
       "    <tr>\n",
       "      <th>1</th>\n",
       "      <td>АБ</td>\n",
       "      <td>6.0</td>\n",
       "      <td>0.06</td>\n",
       "      <td>0.06</td>\n",
       "      <td>0.3</td>\n",
       "    </tr>\n",
       "    <tr>\n",
       "      <th>2</th>\n",
       "      <td>АВ</td>\n",
       "      <td>15.0</td>\n",
       "      <td>0.15</td>\n",
       "      <td>0.15</td>\n",
       "      <td>0.3</td>\n",
       "    </tr>\n",
       "    <tr>\n",
       "      <th>3</th>\n",
       "      <td>БА</td>\n",
       "      <td>6.0</td>\n",
       "      <td>0.06</td>\n",
       "      <td>0.06</td>\n",
       "      <td>0.2</td>\n",
       "    </tr>\n",
       "    <tr>\n",
       "      <th>4</th>\n",
       "      <td>ББ</td>\n",
       "      <td>4.0</td>\n",
       "      <td>0.04</td>\n",
       "      <td>0.04</td>\n",
       "      <td>0.2</td>\n",
       "    </tr>\n",
       "    <tr>\n",
       "      <th>5</th>\n",
       "      <td>БВ</td>\n",
       "      <td>10.0</td>\n",
       "      <td>0.10</td>\n",
       "      <td>0.10</td>\n",
       "      <td>0.2</td>\n",
       "    </tr>\n",
       "    <tr>\n",
       "      <th>6</th>\n",
       "      <td>ВА</td>\n",
       "      <td>15.0</td>\n",
       "      <td>0.15</td>\n",
       "      <td>0.15</td>\n",
       "      <td>0.5</td>\n",
       "    </tr>\n",
       "    <tr>\n",
       "      <th>7</th>\n",
       "      <td>ВБ</td>\n",
       "      <td>10.0</td>\n",
       "      <td>0.10</td>\n",
       "      <td>0.10</td>\n",
       "      <td>0.5</td>\n",
       "    </tr>\n",
       "    <tr>\n",
       "      <th>8</th>\n",
       "      <td>ВВ</td>\n",
       "      <td>25.0</td>\n",
       "      <td>0.25</td>\n",
       "      <td>0.25</td>\n",
       "      <td>0.5</td>\n",
       "    </tr>\n",
       "    <tr>\n",
       "      <th>Сумма</th>\n",
       "      <td>АААБАВБАБББВВАВБВВ</td>\n",
       "      <td>100.0</td>\n",
       "      <td>1.00</td>\n",
       "      <td>1.00</td>\n",
       "      <td>3.0</td>\n",
       "    </tr>\n",
       "  </tbody>\n",
       "</table>\n",
       "</div>"
      ],
      "text/plain": [
       "                     aiaj  n(aiaj)  p(aiaj)  p(ai) * p(aj)  p(aj|ai)\n",
       "0                      АА      9.0     0.09           0.09       0.3\n",
       "1                      АБ      6.0     0.06           0.06       0.3\n",
       "2                      АВ     15.0     0.15           0.15       0.3\n",
       "3                      БА      6.0     0.06           0.06       0.2\n",
       "4                      ББ      4.0     0.04           0.04       0.2\n",
       "5                      БВ     10.0     0.10           0.10       0.2\n",
       "6                      ВА     15.0     0.15           0.15       0.5\n",
       "7                      ВБ     10.0     0.10           0.10       0.5\n",
       "8                      ВВ     25.0     0.25           0.25       0.5\n",
       "Сумма  АААБАВБАБББВВАВБВВ    100.0     1.00           1.00       3.0"
      ]
     },
     "execution_count": 91,
     "metadata": {},
     "output_type": "execute_result"
    }
   ],
   "source": [
    "aiaj_df = pd.DataFrame({\n",
    "    'aiaj': combinations,\n",
    "})\n",
    "for index, row in aiaj_df.iterrows():\n",
    "    combination = row['aiaj']\n",
    "    aiaj_df.loc[index, 'n(aiaj)'] = len(re.findall(f'(?={combination})', code_plusone))\n",
    "    aiaj_df.loc[index, 'p(aiaj)'] = (len(re.findall(f'(?={combination})', code_plusone)))/len(code)\n",
    "    aiaj_df.loc[index, 'p(ai) * p(aj)'] = pa_df[pa_df['Символ (ai)']==combination[0]]['Вероятность (p(ai))'].tolist()[0] * pa_df[pa_df['Символ (ai)']==combination[1]]['Вероятность (p(ai))'].tolist()[0]\n",
    "    aiaj_df.loc[index, 'p(aj|ai)'] = ((len(re.findall(f'(?={combination[::-1]})', code_plusone)))/len(code))/(pa_df[pa_df['Символ (ai)']==combination[1]]['Вероятность (p(ai))'].tolist()[0])\n",
    "k = 0\n",
    "for index, row in aiaj_df.iterrows():\n",
    "    if round(row['p(aiaj)'], 2) == round(row['p(ai) * p(aj)'], 2): \n",
    "        k+=1\n",
    "if k == len(aiaj_df): istochnik = 'Независимый источник'\n",
    "else: istochnik = 'Марковский источник'\n",
    "\n",
    "print(istochnik)\n",
    "\n",
    "aiaj_df.loc['Сумма']= aiaj_df.sum()\n",
    "aiaj_df"
   ]
  },
  {
   "cell_type": "markdown",
   "metadata": {},
   "source": [
    "## Энтропия"
   ]
  },
  {
   "cell_type": "code",
   "execution_count": 149,
   "metadata": {},
   "outputs": [
    {
     "name": "stdout",
     "output_type": "stream",
     "text": [
      "Энтропия H(A) -1.4854752972273344\n",
      "Сравить с Jc = 1.486\n"
     ]
    }
   ],
   "source": [
    "if istochnik == 'Марковский источник':\n",
    "    pass\n",
    "    ha = 0\n",
    "    for i in range(0, len(alphabet)):\n",
    "        pai = pa_df[pa_df['Символ (ai)']==alphabet[i]]['Вероятность (p(ai))'].tolist()[0]\n",
    "        logsum = 0\n",
    "        for j in range(0, len(alphabet)):\n",
    "            pajai = aiaj_df[aiaj_df['aiaj']==(alphabet[j]+alphabet[i])]['p(aj|ai)'].tolist()[0]\n",
    "            logsum += pajai * log2(pajai)\n",
    "            print(pajai, alphabet[j]+alphabet[i])\n",
    "        ha += logsum * pai\n",
    "    # print(-ha)\n",
    "else:\n",
    "    ha = 0\n",
    "    for i in range(0, len(alphabet)):\n",
    "        ha += pa_df[pa_df['Символ (ai)']==alphabet[i]]['Вероятность (p(ai))'].tolist()[0] * log2(pa_df[pa_df['Символ (ai)']==alphabet[i]]['Вероятность (p(ai))'].tolist()[0])\n",
    "    ha = ha\n",
    "    print('Энтропия H(A)', ha)\n",
    "print('Сравить с Jc =', jc/100)"
   ]
  },
  {
   "cell_type": "markdown",
   "metadata": {},
   "source": [
    "## Избыточность"
   ]
  },
  {
   "cell_type": "code",
   "execution_count": 112,
   "metadata": {},
   "outputs": [
    {
     "name": "stdout",
     "output_type": "stream",
     "text": [
      "Избыточность r = 1.94\n"
     ]
    }
   ],
   "source": [
    "r = (log2(len(alphabet))-ha)/(log2(len(alphabet)))\n",
    "print('Избыточность r =', round(r, 2))"
   ]
  },
  {
   "cell_type": "markdown",
   "metadata": {},
   "source": [
    "## Минимальное кол-во двоичных символов, необходимых для кодирования"
   ]
  },
  {
   "cell_type": "code",
   "execution_count": 114,
   "metadata": {},
   "outputs": [
    {
     "name": "stdout",
     "output_type": "stream",
     "text": [
      "Lkmin = 148.54752972273343\n"
     ]
    }
   ],
   "source": [
    "lkmin = - la * ha\n",
    "print('Lkmin =', lkmin)"
   ]
  },
  {
   "cell_type": "markdown",
   "metadata": {},
   "source": [
    "## Равномерный код"
   ]
  },
  {
   "cell_type": "code",
   "execution_count": 135,
   "metadata": {},
   "outputs": [
    {
     "name": "stdout",
     "output_type": "stream",
     "text": [
      "p(0) 0.35\n",
      "p(1) 0.65\n",
      "delta p 0.3\n",
      "r равномер 0.26\n"
     ]
    },
    {
     "data": {
      "text/html": [
       "<div>\n",
       "<style scoped>\n",
       "    .dataframe tbody tr th:only-of-type {\n",
       "        vertical-align: middle;\n",
       "    }\n",
       "\n",
       "    .dataframe tbody tr th {\n",
       "        vertical-align: top;\n",
       "    }\n",
       "\n",
       "    .dataframe thead th {\n",
       "        text-align: right;\n",
       "    }\n",
       "</style>\n",
       "<table border=\"1\" class=\"dataframe\">\n",
       "  <thead>\n",
       "    <tr style=\"text-align: right;\">\n",
       "      <th></th>\n",
       "      <th>Символ (ai)</th>\n",
       "      <th>Кол-во символов (nai)</th>\n",
       "      <th>Кодовая комбинация</th>\n",
       "      <th>n(0)</th>\n",
       "      <th>n(1)</th>\n",
       "    </tr>\n",
       "  </thead>\n",
       "  <tbody>\n",
       "    <tr>\n",
       "      <th>0</th>\n",
       "      <td>Б</td>\n",
       "      <td>20.0</td>\n",
       "      <td>00</td>\n",
       "      <td>40</td>\n",
       "      <td>0</td>\n",
       "    </tr>\n",
       "    <tr>\n",
       "      <th>1</th>\n",
       "      <td>А</td>\n",
       "      <td>30.0</td>\n",
       "      <td>01</td>\n",
       "      <td>30</td>\n",
       "      <td>30</td>\n",
       "    </tr>\n",
       "    <tr>\n",
       "      <th>2</th>\n",
       "      <td>В</td>\n",
       "      <td>50.0</td>\n",
       "      <td>11</td>\n",
       "      <td>0</td>\n",
       "      <td>100</td>\n",
       "    </tr>\n",
       "    <tr>\n",
       "      <th>Сумма</th>\n",
       "      <td>-</td>\n",
       "      <td>100.0</td>\n",
       "      <td>-</td>\n",
       "      <td>70</td>\n",
       "      <td>130</td>\n",
       "    </tr>\n",
       "  </tbody>\n",
       "</table>\n",
       "</div>"
      ],
      "text/plain": [
       "      Символ (ai)  Кол-во символов (nai) Кодовая комбинация  n(0)  n(1)\n",
       "0               Б                   20.0                 00    40     0\n",
       "1               А                   30.0                 01    30    30\n",
       "2               В                   50.0                 11     0   100\n",
       "Сумма           -                  100.0                  -    70   130"
      ]
     },
     "execution_count": 135,
     "metadata": {},
     "output_type": "execute_result"
    }
   ],
   "source": [
    "ravnomer_df = pd.concat([pa_df['Символ (ai)'], pa_df['Кол-во символов (nai)']], axis=1)\n",
    "ravnomer_df = ravnomer_df.drop (index = 'Сумма' )\n",
    "ravnomer_df['Кодовая комбинация'] = ['00', '01', '11']\n",
    "ravnomer_df['n(0)'] = [2*20, 1*30, 0]\n",
    "ravnomer_df['n(1)'] = [0, 1*30, 2*50]\n",
    "print('p(0)', ravnomer_df['n(0)'].sum()/200)\n",
    "print('p(1)', ravnomer_df['n(1)'].sum()/200)\n",
    "ravnomer_df.loc['Сумма']= ['-', ravnomer_df.sum()[1], '-', ravnomer_df.sum()[3], ravnomer_df.sum()[4]]\n",
    "print('delta p', (130-70)/200)\n",
    "print('r равномер', round((200-lkmin)/200, 2))\n",
    "ravnomer_df"
   ]
  },
  {
   "cell_type": "markdown",
   "metadata": {},
   "source": [
    "## Эффективный код Шеннона - Фано"
   ]
  },
  {
   "cell_type": "code",
   "execution_count": 146,
   "metadata": {},
   "outputs": [
    {
     "name": "stdout",
     "output_type": "stream",
     "text": [
      "p(0) 0.53\n",
      "p(1) 0.47\n",
      "delta p 0.07\n",
      "r шф 0.01\n"
     ]
    },
    {
     "data": {
      "text/html": [
       "<div>\n",
       "<style scoped>\n",
       "    .dataframe tbody tr th:only-of-type {\n",
       "        vertical-align: middle;\n",
       "    }\n",
       "\n",
       "    .dataframe tbody tr th {\n",
       "        vertical-align: top;\n",
       "    }\n",
       "\n",
       "    .dataframe thead th {\n",
       "        text-align: right;\n",
       "    }\n",
       "</style>\n",
       "<table border=\"1\" class=\"dataframe\">\n",
       "  <thead>\n",
       "    <tr style=\"text-align: right;\">\n",
       "      <th></th>\n",
       "      <th>Символ (ai)</th>\n",
       "      <th>Кол-во символов (nai)</th>\n",
       "      <th>Вероятность (p(ai))</th>\n",
       "      <th>Кодовая комбинация</th>\n",
       "      <th>n(0)</th>\n",
       "      <th>n(1)</th>\n",
       "    </tr>\n",
       "  </thead>\n",
       "  <tbody>\n",
       "    <tr>\n",
       "      <th>2</th>\n",
       "      <td>В</td>\n",
       "      <td>50.0</td>\n",
       "      <td>0.5</td>\n",
       "      <td>0</td>\n",
       "      <td>50</td>\n",
       "      <td>0</td>\n",
       "    </tr>\n",
       "    <tr>\n",
       "      <th>1</th>\n",
       "      <td>А</td>\n",
       "      <td>30.0</td>\n",
       "      <td>0.3</td>\n",
       "      <td>10</td>\n",
       "      <td>30</td>\n",
       "      <td>30</td>\n",
       "    </tr>\n",
       "    <tr>\n",
       "      <th>0</th>\n",
       "      <td>Б</td>\n",
       "      <td>20.0</td>\n",
       "      <td>0.2</td>\n",
       "      <td>11</td>\n",
       "      <td>0</td>\n",
       "      <td>40</td>\n",
       "    </tr>\n",
       "    <tr>\n",
       "      <th>Сумма</th>\n",
       "      <td>-</td>\n",
       "      <td>100.0</td>\n",
       "      <td>1.0</td>\n",
       "      <td>-</td>\n",
       "      <td>80</td>\n",
       "      <td>70</td>\n",
       "    </tr>\n",
       "  </tbody>\n",
       "</table>\n",
       "</div>"
      ],
      "text/plain": [
       "      Символ (ai)  Кол-во символов (nai)  Вероятность (p(ai))  \\\n",
       "2               В                   50.0                  0.5   \n",
       "1               А                   30.0                  0.3   \n",
       "0               Б                   20.0                  0.2   \n",
       "Сумма           -                  100.0                  1.0   \n",
       "\n",
       "      Кодовая комбинация  n(0)  n(1)  \n",
       "2                      0    50     0  \n",
       "1                     10    30    30  \n",
       "0                     11     0    40  \n",
       "Сумма                  -    80    70  "
      ]
     },
     "execution_count": 146,
     "metadata": {},
     "output_type": "execute_result"
    }
   ],
   "source": [
    "shennon_df = pd.concat([pa_df['Символ (ai)'], pa_df['Кол-во символов (nai)'], pa_df['Вероятность (p(ai))']], axis=1)\n",
    "shennon_df = shennon_df.drop (index = 'Сумма')\n",
    "shennon_df = shennon_df.sort_values(by='Вероятность (p(ai))', ascending=False)\n",
    "shennon_df['Кодовая комбинация'] = ['0', '10', '11']\n",
    "shennon_df['n(0)'] = [1*50, 1*30, 0]\n",
    "shennon_df['n(1)'] = [0, 1*30, 2*20]\n",
    "print('p(0)', round(shennon_df['n(0)'].sum()/150, 2))\n",
    "print('p(1)', round(shennon_df['n(1)'].sum()/150, 2))\n",
    "shennon_df.loc['Сумма']= ['-', shennon_df.sum()[1], shennon_df.sum()[2], '-', shennon_df.sum()[4], shennon_df.sum()[5]]\n",
    "print('delta p', round((80-70)/150, 2))\n",
    "print('r шф', round((150-lkmin)/150, 2))\n",
    "shennon_df"
   ]
  }
 ],
 "metadata": {
  "kernelspec": {
   "display_name": "Python 3.10.7 64-bit",
   "language": "python",
   "name": "python3"
  },
  "language_info": {
   "codemirror_mode": {
    "name": "ipython",
    "version": 3
   },
   "file_extension": ".py",
   "mimetype": "text/x-python",
   "name": "python",
   "nbconvert_exporter": "python",
   "pygments_lexer": "ipython3",
   "version": "3.10.8 (tags/v3.10.8:aaaf517, Oct 11 2022, 16:50:30) [MSC v.1933 64 bit (AMD64)]"
  },
  "orig_nbformat": 4,
  "vscode": {
   "interpreter": {
    "hash": "4a4aca0c14410736538bc22f4c63fcff0fb2119c2ddd24e186890533091678b1"
   }
  }
 },
 "nbformat": 4,
 "nbformat_minor": 2
}
